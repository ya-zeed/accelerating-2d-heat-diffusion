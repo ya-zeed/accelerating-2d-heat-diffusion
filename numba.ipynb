{
 "cells": [
  {
   "cell_type": "code",
   "execution_count": null,
   "id": "initial_id",
   "metadata": {
    "collapsed": true
   },
   "outputs": [],
   "source": [
    "!pip install numpy\n",
    "!pip install numba"
   ]
  },
  {
   "metadata": {},
   "cell_type": "code",
   "outputs": [],
   "execution_count": null,
   "source": [
    "%%time\n",
    "import numpy as np\n",
    "from numba import cuda\n",
    "\n",
    "# Problem parameters\n",
    "a = 110.0\n",
    "length = 2000.0\n",
    "time = 160.0\n",
    "nodes = 1600\n",
    "\n",
    "dx = length / (nodes - 1)\n",
    "dy = length / (nodes - 1)\n",
    "dt = min(dx**2 / (4 * a), dy**2 / (4 * a))\n",
    "\n",
    "t_nodes = int(time / dt) + 1\n",
    "\n",
    "# Initialize data on the host\n",
    "u = np.zeros((nodes, nodes), dtype=np.float64) + 20.0\n",
    "u[0, :] = np.linspace(0, 100, nodes, dtype=np.float64)\n",
    "u[-1, :] = np.linspace(0, 100, nodes, dtype=np.float64)\n",
    "u[:, 0] = np.linspace(0, 100, nodes, dtype=np.float64)\n",
    "u[:, -1] = np.linspace(0, 100, nodes, dtype=np.float64)\n",
    "\n",
    "# Move data to device\n",
    "u_d = cuda.to_device(u)\n",
    "w_d = cuda.device_array_like(u_d)\n",
    "\n",
    "# Define CUDA kernels\n",
    "@cuda.jit\n",
    "def copy_kernel(u, w, nodes):\n",
    "    i, j = cuda.grid(2)\n",
    "    if i < nodes and j < nodes:\n",
    "        w[i, j] = u[i, j]\n",
    "\n",
    "@cuda.jit\n",
    "def timestep_kernel(u, w, dx, dy, dt, a, nodes):\n",
    "    i, j = cuda.grid(2)\n",
    "    if i > 0 and i < nodes - 1 and j > 0 and j < nodes - 1:\n",
    "        dd_ux = (w[i - 1, j] - 2.0 * w[i, j] + w[i + 1, j]) / (dx * dx)\n",
    "        dd_uy = (w[i, j - 1] - 2.0 * w[i, j] + w[i, j + 1]) / (dy * dy)\n",
    "        u[i, j] = dt * a * (dd_ux + dd_uy) + w[i, j]\n",
    "\n",
    "# Configure GPU kernel dimensions\n",
    "threadsperblock = (16, 16)\n",
    "blockspergrid_x = (nodes + threadsperblock[0] - 1) // threadsperblock[0]\n",
    "blockspergrid_y = (nodes + threadsperblock[1] - 1) // threadsperblock[1]\n",
    "blockspergrid = (blockspergrid_x, blockspergrid_y)\n",
    "\n",
    "counter = 0.0\n",
    "\n",
    "# Time-stepping loop\n",
    "while counter < time:\n",
    "    # Copy u into w on the GPU\n",
    "    copy_kernel[blockspergrid, threadsperblock](u_d, w_d, nodes)\n",
    "    \n",
    "    # Perform one timestep\n",
    "    timestep_kernel[blockspergrid, threadsperblock](u_d, w_d, dx, dy, dt, a, nodes)\n",
    "    \n",
    "    cuda.synchronize()\n",
    "    counter += dt\n",
    "\n",
    "# Copy the result back to host\n",
    "u_d.copy_to_host(u)\n"
   ],
   "id": "570e93ffb6f6921b"
  }
 ],
 "metadata": {
  "kernelspec": {
   "display_name": "Python 3",
   "language": "python",
   "name": "python3"
  },
  "language_info": {
   "codemirror_mode": {
    "name": "ipython",
    "version": 2
   },
   "file_extension": ".py",
   "mimetype": "text/x-python",
   "name": "python",
   "nbconvert_exporter": "python",
   "pygments_lexer": "ipython2",
   "version": "2.7.6"
  }
 },
 "nbformat": 4,
 "nbformat_minor": 5
}
